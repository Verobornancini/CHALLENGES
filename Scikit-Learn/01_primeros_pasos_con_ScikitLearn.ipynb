{
 "cells": [
  {
   "cell_type": "markdown",
   "id": "d98f6dea",
   "metadata": {},
   "source": [
    "# Scikit Learn: step 1\n",
    "## Challenge: Boston house prices"
   ]
  },
  {
   "cell_type": "code",
   "execution_count": 1,
   "id": "15b8e6fa",
   "metadata": {},
   "outputs": [],
   "source": [
    "#!pip install --upgrade scikit-learn==0.23.0"
   ]
  },
  {
   "cell_type": "markdown",
   "id": "66e274e9",
   "metadata": {},
   "source": [
    "#### PASO 1: Obtener el dataset puro y correr el modelo de vecinos más cercanos"
   ]
  },
  {
   "cell_type": "code",
   "execution_count": 2,
   "id": "62b438f0",
   "metadata": {},
   "outputs": [],
   "source": [
    "from sklearn.datasets import load_boston # función para obtener el dataset\n",
    "from sklearn.neighbors import KNeighborsRegressor # objeto modelo de vecinos más cercanos\n",
    "import matplotlib.pyplot as plt"
   ]
  },
  {
   "cell_type": "code",
   "execution_count": 3,
   "id": "56101fcd",
   "metadata": {},
   "outputs": [
    {
     "name": "stdout",
     "output_type": "stream",
     "text": [
      ".. _boston_dataset:\n",
      "\n",
      "Boston house prices dataset\n",
      "---------------------------\n",
      "\n",
      "**Data Set Characteristics:**  \n",
      "\n",
      "    :Number of Instances: 506 \n",
      "\n",
      "    :Number of Attributes: 13 numeric/categorical predictive. Median Value (attribute 14) is usually the target.\n",
      "\n",
      "    :Attribute Information (in order):\n",
      "        - CRIM     per capita crime rate by town\n",
      "        - ZN       proportion of residential land zoned for lots over 25,000 sq.ft.\n",
      "        - INDUS    proportion of non-retail business acres per town\n",
      "        - CHAS     Charles River dummy variable (= 1 if tract bounds river; 0 otherwise)\n",
      "        - NOX      nitric oxides concentration (parts per 10 million)\n",
      "        - RM       average number of rooms per dwelling\n",
      "        - AGE      proportion of owner-occupied units built prior to 1940\n",
      "        - DIS      weighted distances to five Boston employment centres\n",
      "        - RAD      index of accessibility to radial highways\n",
      "        - TAX      full-value property-tax rate per $10,000\n",
      "        - PTRATIO  pupil-teacher ratio by town\n",
      "        - B        1000(Bk - 0.63)^2 where Bk is the proportion of blacks by town\n",
      "        - LSTAT    % lower status of the population\n",
      "        - MEDV     Median value of owner-occupied homes in $1000's\n",
      "\n",
      "    :Missing Attribute Values: None\n",
      "\n",
      "    :Creator: Harrison, D. and Rubinfeld, D.L.\n",
      "\n",
      "This is a copy of UCI ML housing dataset.\n",
      "https://archive.ics.uci.edu/ml/machine-learning-databases/housing/\n",
      "\n",
      "\n",
      "This dataset was taken from the StatLib library which is maintained at Carnegie Mellon University.\n",
      "\n",
      "The Boston house-price data of Harrison, D. and Rubinfeld, D.L. 'Hedonic\n",
      "prices and the demand for clean air', J. Environ. Economics & Management,\n",
      "vol.5, 81-102, 1978.   Used in Belsley, Kuh & Welsch, 'Regression diagnostics\n",
      "...', Wiley, 1980.   N.B. Various transformations are used in the table on\n",
      "pages 244-261 of the latter.\n",
      "\n",
      "The Boston house-price data has been used in many machine learning papers that address regression\n",
      "problems.   \n",
      "     \n",
      ".. topic:: References\n",
      "\n",
      "   - Belsley, Kuh & Welsch, 'Regression diagnostics: Identifying Influential Data and Sources of Collinearity', Wiley, 1980. 244-261.\n",
      "   - Quinlan,R. (1993). Combining Instance-Based and Model-Based Learning. In Proceedings on the Tenth International Conference of Machine Learning, 236-243, University of Massachusetts, Amherst. Morgan Kaufmann.\n",
      "\n"
     ]
    }
   ],
   "source": [
    "print(load_boston()['DESCR'])"
   ]
  },
  {
   "cell_type": "code",
   "execution_count": 4,
   "id": "f0979799",
   "metadata": {},
   "outputs": [],
   "source": [
    "# Obtención de dos arrays, uno con la información de las variables y otro con el precio de las viviendas\n",
    "X_features, y_prices = load_boston(return_X_y= True)"
   ]
  },
  {
   "cell_type": "code",
   "execution_count": 5,
   "id": "d97305be",
   "metadata": {},
   "outputs": [],
   "source": [
    "# Instancio el objeto model\n",
    "model = KNeighborsRegressor()"
   ]
  },
  {
   "cell_type": "code",
   "execution_count": 6,
   "id": "d2ccfa87",
   "metadata": {},
   "outputs": [],
   "source": [
    "# Entrenamiento del modelo con mis datos crudos\n",
    "model_fit = model.fit(X_features, y_prices)"
   ]
  },
  {
   "cell_type": "code",
   "execution_count": 7,
   "id": "1a3fd89b",
   "metadata": {},
   "outputs": [],
   "source": [
    "# Obtención de las predicciones\n",
    "predictions = model_fit.predict(X_features)"
   ]
  },
  {
   "cell_type": "code",
   "execution_count": 8,
   "id": "2206bf37",
   "metadata": {},
   "outputs": [
    {
     "data": {
      "text/plain": [
       "<matplotlib.collections.PathCollection at 0x11443cd4fa0>"
      ]
     },
     "execution_count": 8,
     "metadata": {},
     "output_type": "execute_result"
    },
    {
     "data": {
      "image/png": "[encoded data removed]",
      "text/plain": [
       "<Figure size 432x288 with 1 Axes>"
      ]
     },
     "metadata": {
      "needs_background": "light"
     },
     "output_type": "display_data"
    }
   ],
   "source": [
    "# Grafico de dispersión: comparación entre valores reales y predichos\n",
    "plt.scatter(predictions, y_prices)"
   ]
  },
  {
   "cell_type": "markdown",
   "id": "850c3a92",
   "metadata": {},
   "source": [
    "#### PASO 2: Realizar un preprocesamiento al dataset anterior y luego correr el modelo de vecinos más cercanos"
   ]
  },
  {
   "cell_type": "code",
   "execution_count": 9,
   "id": "30c43d73",
   "metadata": {},
   "outputs": [],
   "source": [
    "from sklearn.preprocessing import StandardScaler # herramientas para preprocesamiento\n",
    "from sklearn.pipeline import Pipeline # objeto pipeline para concatenar procesos"
   ]
  },
  {
   "cell_type": "code",
   "execution_count": 10,
   "id": "bed7f670",
   "metadata": {},
   "outputs": [],
   "source": [
    "# Obtención de dos arrays, uno con la información de las variables y otro con el precio de las viviendas\n",
    "X_features, y_prices = load_boston(return_X_y= True)"
   ]
  },
  {
   "cell_type": "code",
   "execution_count": 11,
   "id": "f45d0c80",
   "metadata": {},
   "outputs": [],
   "source": [
    "# Creo un pipeline para que primero se estandaricen los datos y luego corra el modelo\n",
    "pipe = Pipeline([\n",
    "    (\"scale\", StandardScaler()), # lleva paréntesis porque debo pasarle el objeto no la clase StandardScaler\n",
    "    (\"model\", KNeighborsRegressor()),\n",
    "])"
   ]
  },
  {
   "cell_type": "code",
   "execution_count": 12,
   "id": "4c01ea3e",
   "metadata": {},
   "outputs": [],
   "source": [
    "# Entreno el modelo con mis datos pre-procesados ejecutando el pipeline creado\n",
    "pipe_fit = pipe.fit(X_features, y_prices)"
   ]
  },
  {
   "cell_type": "code",
   "execution_count": 13,
   "id": "c795d552",
   "metadata": {},
   "outputs": [],
   "source": [
    "# Obtención de las predicciones\n",
    "predictions_2 = pipe_fit.predict(X_features)"
   ]
  },
  {
   "cell_type": "code",
   "execution_count": 14,
   "id": "cc61d58f",
   "metadata": {},
   "outputs": [
    {
     "data": {
      "text/plain": [
       "<matplotlib.collections.PathCollection at 0x1144459b130>"
      ]
     },
     "execution_count": 14,
     "metadata": {},
     "output_type": "execute_result"
    },
    {
     "data": {
      "image/png": "[encoded data removed]",
      "text/plain": [
       "<Figure size 432x288 with 1 Axes>"
      ]
     },
     "metadata": {
      "needs_background": "light"
     },
     "output_type": "display_data"
    }
   ],
   "source": [
    "# Grafico de dispersión: comparación entre valores reales y predichos\n",
    "plt.scatter(predictions_2, y_prices)"
   ]
  },
  {
   "cell_type": "markdown",
   "id": "868cd8cd",
   "metadata": {},
   "source": [
    "#### PASO 3: Profundizar el análisis\n",
    "* Dividir el dataset anterior en dos sets (entrenamiento y validación) y luego correr el modelo de vecinos más cercanos\n",
    "* Instanciar el objeto GridSerch para setear el número de vecinos más cercanos y un análisis de validación cruzada"
   ]
  },
  {
   "cell_type": "code",
   "execution_count": 15,
   "id": "2e9517d4",
   "metadata": {},
   "outputs": [],
   "source": [
    "import pandas as pd\n",
    "from sklearn.model_selection import GridSearchCV"
   ]
  },
  {
   "cell_type": "code",
   "execution_count": 16,
   "id": "03a9e0ab",
   "metadata": {},
   "outputs": [],
   "source": [
    "# Obtención de dos arrays, uno con la información de las variables y otro con el precio de las viviendas\n",
    "X_features, y_prices = load_boston(return_X_y= True)"
   ]
  },
  {
   "cell_type": "code",
   "execution_count": 17,
   "id": "77af6ab7",
   "metadata": {},
   "outputs": [],
   "source": [
    "# Creo un pipeline para que primero se estandaricen los datos y luego corra el modelo\n",
    "pipe = Pipeline([\n",
    "    (\"scale\", StandardScaler()), # lleva paréntesis porque debo pasarle el objeto no la clase StandardScaler\n",
    "    (\"model\", KNeighborsRegressor()),\n",
    "])"
   ]
  },
  {
   "cell_type": "code",
   "execution_count": 18,
   "id": "a0e0675d",
   "metadata": {},
   "outputs": [
    {
     "data": {
      "text/plain": [
       "{'memory': None,\n",
       " 'steps': [('scale', StandardScaler()), ('model', KNeighborsRegressor())],\n",
       " 'verbose': False,\n",
       " 'scale': StandardScaler(),\n",
       " 'model': KNeighborsRegressor(),\n",
       " 'scale__copy': True,\n",
       " 'scale__with_mean': True,\n",
       " 'scale__with_std': True,\n",
       " 'model__algorithm': 'auto',\n",
       " 'model__leaf_size': 30,\n",
       " 'model__metric': 'minkowski',\n",
       " 'model__metric_params': None,\n",
       " 'model__n_jobs': None,\n",
       " 'model__n_neighbors': 5,\n",
       " 'model__p': 2,\n",
       " 'model__weights': 'uniform'}"
      ]
     },
     "execution_count": 18,
     "metadata": {},
     "output_type": "execute_result"
    }
   ],
   "source": [
    "# Reviso los parámetros que puedo incluir dentro de mi grilla en \"param_grid\"\n",
    "pipe.get_params()"
   ]
  },
  {
   "cell_type": "code",
   "execution_count": 19,
   "id": "f7382124",
   "metadata": {},
   "outputs": [],
   "source": [
    "# Instancio el objeto GridSearchCV y especifico los parámetros que quiero ajustar\n",
    "model_grid = GridSearchCV(estimator = pipe,\n",
    "                          param_grid = {'model__n_neighbors':[1,2,3,4,5,6,7,8,9,10]}, # cantidad de vecinos cercanos\n",
    "                          cv = 3 # sets para validación cruzada (cross validation)\n",
    "                         )"
   ]
  },
  {
   "cell_type": "code",
   "execution_count": 20,
   "id": "ff736b92",
   "metadata": {},
   "outputs": [],
   "source": [
    "# Entreno los modelos diseñados con GridSearch\n",
    "model_grid_fit = model_grid.fit(X_features, y_prices)"
   ]
  },
  {
   "cell_type": "code",
   "execution_count": 21,
   "id": "7ea88486",
   "metadata": {},
   "outputs": [
    {
     "data": {
      "text/html": [
       "<div>\n",
       "<style scoped>\n",
       "    .dataframe tbody tr th:only-of-type {\n",
       "        vertical-align: middle;\n",
       "    }\n",
       "\n",
       "    .dataframe tbody tr th {\n",
       "        vertical-align: top;\n",
       "    }\n",
       "\n",
       "    .dataframe thead th {\n",
       "        text-align: right;\n",
       "    }\n",
       "</style>\n",
       "<table border=\"1\" class=\"dataframe\">\n",
       "  <thead>\n",
       "    <tr style=\"text-align: right;\">\n",
       "      <th></th>\n",
       "      <th>mean_fit_time</th>\n",
       "      <th>std_fit_time</th>\n",
       "      <th>mean_score_time</th>\n",
       "      <th>std_score_time</th>\n",
       "      <th>param_model__n_neighbors</th>\n",
       "      <th>params</th>\n",
       "      <th>split0_test_score</th>\n",
       "      <th>split1_test_score</th>\n",
       "      <th>split2_test_score</th>\n",
       "      <th>mean_test_score</th>\n",
       "      <th>std_test_score</th>\n",
       "      <th>rank_test_score</th>\n",
       "    </tr>\n",
       "  </thead>\n",
       "  <tbody>\n",
       "    <tr>\n",
       "      <th>0</th>\n",
       "      <td>0.003326</td>\n",
       "      <td>0.000937</td>\n",
       "      <td>0.005333</td>\n",
       "      <td>0.000474</td>\n",
       "      <td>1</td>\n",
       "      <td>{'model__n_neighbors': 1}</td>\n",
       "      <td>0.226933</td>\n",
       "      <td>0.432998</td>\n",
       "      <td>0.127635</td>\n",
       "      <td>0.262522</td>\n",
       "      <td>0.127179</td>\n",
       "      <td>10</td>\n",
       "    </tr>\n",
       "    <tr>\n",
       "      <th>1</th>\n",
       "      <td>0.002666</td>\n",
       "      <td>0.000471</td>\n",
       "      <td>0.004000</td>\n",
       "      <td>0.000818</td>\n",
       "      <td>2</td>\n",
       "      <td>{'model__n_neighbors': 2}</td>\n",
       "      <td>0.358216</td>\n",
       "      <td>0.409229</td>\n",
       "      <td>0.172294</td>\n",
       "      <td>0.313246</td>\n",
       "      <td>0.101821</td>\n",
       "      <td>9</td>\n",
       "    </tr>\n",
       "    <tr>\n",
       "      <th>2</th>\n",
       "      <td>0.003002</td>\n",
       "      <td>0.000002</td>\n",
       "      <td>0.004000</td>\n",
       "      <td>0.000001</td>\n",
       "      <td>3</td>\n",
       "      <td>{'model__n_neighbors': 3}</td>\n",
       "      <td>0.413515</td>\n",
       "      <td>0.476651</td>\n",
       "      <td>0.318534</td>\n",
       "      <td>0.402900</td>\n",
       "      <td>0.064986</td>\n",
       "      <td>1</td>\n",
       "    </tr>\n",
       "    <tr>\n",
       "      <th>3</th>\n",
       "      <td>0.002663</td>\n",
       "      <td>0.000471</td>\n",
       "      <td>0.004333</td>\n",
       "      <td>0.000468</td>\n",
       "      <td>4</td>\n",
       "      <td>{'model__n_neighbors': 4}</td>\n",
       "      <td>0.475349</td>\n",
       "      <td>0.402495</td>\n",
       "      <td>0.273014</td>\n",
       "      <td>0.383619</td>\n",
       "      <td>0.083675</td>\n",
       "      <td>7</td>\n",
       "    </tr>\n",
       "    <tr>\n",
       "      <th>4</th>\n",
       "      <td>0.002663</td>\n",
       "      <td>0.000470</td>\n",
       "      <td>0.004334</td>\n",
       "      <td>0.000470</td>\n",
       "      <td>5</td>\n",
       "      <td>{'model__n_neighbors': 5}</td>\n",
       "      <td>0.512318</td>\n",
       "      <td>0.347951</td>\n",
       "      <td>0.262590</td>\n",
       "      <td>0.374286</td>\n",
       "      <td>0.103638</td>\n",
       "      <td>8</td>\n",
       "    </tr>\n",
       "    <tr>\n",
       "      <th>5</th>\n",
       "      <td>0.002636</td>\n",
       "      <td>0.000451</td>\n",
       "      <td>0.003683</td>\n",
       "      <td>0.000450</td>\n",
       "      <td>6</td>\n",
       "      <td>{'model__n_neighbors': 6}</td>\n",
       "      <td>0.533611</td>\n",
       "      <td>0.389504</td>\n",
       "      <td>0.248482</td>\n",
       "      <td>0.390532</td>\n",
       "      <td>0.116406</td>\n",
       "      <td>6</td>\n",
       "    </tr>\n",
       "    <tr>\n",
       "      <th>6</th>\n",
       "      <td>0.002011</td>\n",
       "      <td>0.000020</td>\n",
       "      <td>0.004333</td>\n",
       "      <td>0.000471</td>\n",
       "      <td>7</td>\n",
       "      <td>{'model__n_neighbors': 7}</td>\n",
       "      <td>0.544782</td>\n",
       "      <td>0.385199</td>\n",
       "      <td>0.243668</td>\n",
       "      <td>0.391216</td>\n",
       "      <td>0.123003</td>\n",
       "      <td>5</td>\n",
       "    </tr>\n",
       "    <tr>\n",
       "      <th>7</th>\n",
       "      <td>0.002669</td>\n",
       "      <td>0.000477</td>\n",
       "      <td>0.003997</td>\n",
       "      <td>0.000816</td>\n",
       "      <td>8</td>\n",
       "      <td>{'model__n_neighbors': 8}</td>\n",
       "      <td>0.589644</td>\n",
       "      <td>0.394650</td>\n",
       "      <td>0.209714</td>\n",
       "      <td>0.398003</td>\n",
       "      <td>0.155124</td>\n",
       "      <td>2</td>\n",
       "    </tr>\n",
       "    <tr>\n",
       "      <th>8</th>\n",
       "      <td>0.002335</td>\n",
       "      <td>0.000472</td>\n",
       "      <td>0.004331</td>\n",
       "      <td>0.000938</td>\n",
       "      <td>9</td>\n",
       "      <td>{'model__n_neighbors': 9}</td>\n",
       "      <td>0.590352</td>\n",
       "      <td>0.407556</td>\n",
       "      <td>0.185253</td>\n",
       "      <td>0.394387</td>\n",
       "      <td>0.165643</td>\n",
       "      <td>3</td>\n",
       "    </tr>\n",
       "    <tr>\n",
       "      <th>9</th>\n",
       "      <td>0.002017</td>\n",
       "      <td>0.000029</td>\n",
       "      <td>0.004329</td>\n",
       "      <td>0.000466</td>\n",
       "      <td>10</td>\n",
       "      <td>{'model__n_neighbors': 10}</td>\n",
       "      <td>0.616510</td>\n",
       "      <td>0.395077</td>\n",
       "      <td>0.164023</td>\n",
       "      <td>0.391870</td>\n",
       "      <td>0.184741</td>\n",
       "      <td>4</td>\n",
       "    </tr>\n",
       "  </tbody>\n",
       "</table>\n",
       "</div>"
      ],
      "text/plain": [
       "   mean_fit_time  std_fit_time  mean_score_time  std_score_time  \\\n",
       "0       0.003326      0.000937         0.005333        0.000474   \n",
       "1       0.002666      0.000471         0.004000        0.000818   \n",
       "2       0.003002      0.000002         0.004000        0.000001   \n",
       "3       0.002663      0.000471         0.004333        0.000468   \n",
       "4       0.002663      0.000470         0.004334        0.000470   \n",
       "5       0.002636      0.000451         0.003683        0.000450   \n",
       "6       0.002011      0.000020         0.004333        0.000471   \n",
       "7       0.002669      0.000477         0.003997        0.000816   \n",
       "8       0.002335      0.000472         0.004331        0.000938   \n",
       "9       0.002017      0.000029         0.004329        0.000466   \n",
       "\n",
       "  param_model__n_neighbors                      params  split0_test_score  \\\n",
       "0                        1   {'model__n_neighbors': 1}           0.226933   \n",
       "1                        2   {'model__n_neighbors': 2}           0.358216   \n",
       "2                        3   {'model__n_neighbors': 3}           0.413515   \n",
       "3                        4   {'model__n_neighbors': 4}           0.475349   \n",
       "4                        5   {'model__n_neighbors': 5}           0.512318   \n",
       "5                        6   {'model__n_neighbors': 6}           0.533611   \n",
       "6                        7   {'model__n_neighbors': 7}           0.544782   \n",
       "7                        8   {'model__n_neighbors': 8}           0.589644   \n",
       "8                        9   {'model__n_neighbors': 9}           0.590352   \n",
       "9                       10  {'model__n_neighbors': 10}           0.616510   \n",
       "\n",
       "   split1_test_score  split2_test_score  mean_test_score  std_test_score  \\\n",
       "0           0.432998           0.127635         0.262522        0.127179   \n",
       "1           0.409229           0.172294         0.313246        0.101821   \n",
       "2           0.476651           0.318534         0.402900        0.064986   \n",
       "3           0.402495           0.273014         0.383619        0.083675   \n",
       "4           0.347951           0.262590         0.374286        0.103638   \n",
       "5           0.389504           0.248482         0.390532        0.116406   \n",
       "6           0.385199           0.243668         0.391216        0.123003   \n",
       "7           0.394650           0.209714         0.398003        0.155124   \n",
       "8           0.407556           0.185253         0.394387        0.165643   \n",
       "9           0.395077           0.164023         0.391870        0.184741   \n",
       "\n",
       "   rank_test_score  \n",
       "0               10  \n",
       "1                9  \n",
       "2                1  \n",
       "3                7  \n",
       "4                8  \n",
       "5                6  \n",
       "6                5  \n",
       "7                2  \n",
       "8                3  \n",
       "9                4  "
      ]
     },
     "execution_count": 21,
     "metadata": {},
     "output_type": "execute_result"
    }
   ],
   "source": [
    "# Obtengo las estadísticas de todos los modelos creados y probados con GridSearch\n",
    "# El modelo con menor \"rank_test_score\" será el mejor modelo logrado, en este caso el que tiene 'model__n_neighbors'= 3\n",
    "pd.DataFrame(model_grid_fit.cv_results_)"
   ]
  },
  {
   "cell_type": "code",
   "execution_count": 23,
   "id": "33103e8c",
   "metadata": {},
   "outputs": [],
   "source": [
    "# Obtención de las predicciones\n",
    "predictions_3 = model_grid_fit.predict(X_features)"
   ]
  },
  {
   "cell_type": "code",
   "execution_count": 24,
   "id": "b6e4b1e6",
   "metadata": {},
   "outputs": [
    {
     "data": {
      "text/plain": [
       "<matplotlib.collections.PathCollection at 0x114451cd190>"
      ]
     },
     "execution_count": 24,
     "metadata": {},
     "output_type": "execute_result"
    },
    {
     "data": {
      "image/png": "[encoded data removed]",
      "text/plain": [
       "<Figure size 432x288 with 1 Axes>"
      ]
     },
     "metadata": {
      "needs_background": "light"
     },
     "output_type": "display_data"
    }
   ],
   "source": [
    "# Grafico de dispersión: comparación entre valores reales y predichos\n",
    "plt.scatter(predictions_3, y_prices)"
   ]
  },
  {
   "cell_type": "markdown",
   "id": "fb8a6168",
   "metadata": {},
   "source": [
    "### NOTA: Con los ejercicios anteriores se puede observar que no basta con correr solamente un modelo sobre una base de datos. Para obtener un buen modelo en necesario:\n",
    "* Entender bien el problema,\n",
    "* Analizar que variables se incluyen y tomar deciciones sobre si es conveniente mantenerlas a todas o no,\n",
    "* Realizar un proceso de reingeniería de variables,\n",
    "* Reescalar las variables y buscar el mejor modelo con GridSearch y Cross Validation,\n",
    "* Probar y ajustar los diferentes hiperparámetros que permita el modelo,\n",
    "* Finalemente ejecutar el modelo y obtener las predicciones."
   ]
  }
 ],
 "metadata": {
  "kernelspec": {
   "display_name": "Python 3 (ipykernel)",
   "language": "python",
   "name": "python3"
  },
  "language_info": {
   "codemirror_mode": {
    "name": "ipython",
    "version": 3
   },
   "file_extension": ".py",
   "mimetype": "text/x-python",
   "name": "python",
   "nbconvert_exporter": "python",
   "pygments_lexer": "ipython3",
   "version": "3.9.7"
  }
 },
 "nbformat": 4,
 "nbformat_minor": 5
}
