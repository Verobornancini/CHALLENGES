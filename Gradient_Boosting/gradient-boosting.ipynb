{
 "cells": [
  {
   "cell_type": "markdown",
   "metadata": {},
   "source": [
    "# Gradient boosting | Gradient Boosting Machine | GBM\n",
    "\n",
    "**Gradient boosting:** es un algoritmo de conjunto que se ajusta a los árboles de decisión potenciados al minimizar un gradiente de error. Hay muchas implementaciones del algoritmo de aumento de gradiente disponibles en Python.\n",
    "Probaremos un clasificador con todos ellos y compararemos la velocidad y la precisión de cada uno."
   ]
  },
  {
   "cell_type": "code",
   "execution_count": 1,
   "metadata": {},
   "outputs": [],
   "source": [
    "# importamos librerías necesarias\n",
    "\n",
    "# Basicas\n",
    "import numpy as np\n",
    "import pandas as pd\n",
    "from time import time\n",
    "from IPython.core.debugger import set_trace\n",
    "from sklearn.datasets import make_classification\n",
    "\n",
    "# Scikit-Learn\n",
    "from sklearn.ensemble import GradientBoostingClassifier\n",
    "from sklearn.model_selection import cross_val_score\n",
    "from sklearn.model_selection import RepeatedStratifiedKFold"
   ]
  },
  {
   "cell_type": "code",
   "execution_count": 6,
   "metadata": {},
   "outputs": [
    {
     "name": "stdout",
     "output_type": "stream",
     "text": [
      "(100000, 20)\n",
      "(100000,)\n"
     ]
    }
   ],
   "source": [
    "# Genero un dataset de ejemplo\n",
    "X, y = make_classification(\n",
    "    n_samples=100000, \n",
    "    n_features=20, \n",
    "    n_informative=15, \n",
    "    n_redundant=5, \n",
    "    random_state=0)\n",
    "\n",
    "print(X.shape)\n",
    "print(y.shape)"
   ]
  },
  {
   "cell_type": "code",
   "execution_count": 4,
   "metadata": {},
   "outputs": [],
   "source": [
    "# Genero diccionarios vación para guardar posteriores datos\n",
    "accuracy = {}\n",
    "speed = {}"
   ]
  },
  {
   "cell_type": "markdown",
   "metadata": {},
   "source": [
    "### 1) Implementación de Gradient Boosting con Scikit-Learn"
   ]
  },
  {
   "cell_type": "code",
   "execution_count": 7,
   "metadata": {},
   "outputs": [
    {
     "name": "stdout",
     "output_type": "stream",
     "text": [
      "Mean Accuracy: 0.894\n",
      "Std: 0.003\n",
      "Run time: 82.519s\n"
     ]
    },
    {
     "data": {
      "application/javascript": [
       "\n",
       "            setTimeout(function() {\n",
       "                var nbb_cell_id = 7;\n",
       "                var nbb_unformatted_code = \"model = GradientBoostingClassifier()\\n\\nstart = time()\\ncv = RepeatedStratifiedKFold(n_splits=5, n_repeats=2, random_state=0)\\nscore = cross_val_score(model, X, y, scoring=\\\"accuracy\\\", cv=cv, n_jobs=-1)\\n\\nspeed[\\\"GradientBoosting\\\"] = np.round(time() - start, 3)\\naccuracy[\\\"GradientBoosting\\\"] = np.mean(score).round(3)\\n\\nprint(\\n    f\\\"Mean Accuracy: {accuracy['GradientBoosting']}\\\\nStd: {np.std(score):.3f}\\\\nRun time: {speed['GradientBoosting']}s\\\"\\n)\";\n",
       "                var nbb_formatted_code = \"model = GradientBoostingClassifier()\\n\\nstart = time()\\ncv = RepeatedStratifiedKFold(n_splits=5, n_repeats=2, random_state=0)\\nscore = cross_val_score(model, X, y, scoring=\\\"accuracy\\\", cv=cv, n_jobs=-1)\\n\\nspeed[\\\"GradientBoosting\\\"] = np.round(time() - start, 3)\\naccuracy[\\\"GradientBoosting\\\"] = np.mean(score).round(3)\\n\\nprint(\\n    f\\\"Mean Accuracy: {accuracy['GradientBoosting']}\\\\nStd: {np.std(score):.3f}\\\\nRun time: {speed['GradientBoosting']}s\\\"\\n)\";\n",
       "                var nbb_cells = Jupyter.notebook.get_cells();\n",
       "                for (var i = 0; i < nbb_cells.length; ++i) {\n",
       "                    if (nbb_cells[i].input_prompt_number == nbb_cell_id) {\n",
       "                        if (nbb_cells[i].get_text() == nbb_unformatted_code) {\n",
       "                             nbb_cells[i].set_text(nbb_formatted_code);\n",
       "                        }\n",
       "                        break;\n",
       "                    }\n",
       "                }\n",
       "            }, 500);\n",
       "            "
      ],
      "text/plain": [
       "<IPython.core.display.Javascript object>"
      ]
     },
     "metadata": {},
     "output_type": "display_data"
    }
   ],
   "source": [
    "model = GradientBoostingClassifier()\n",
    "\n",
    "start = time()\n",
    "cv = RepeatedStratifiedKFold(n_splits=5, n_repeats=2, random_state=0)\n",
    "score = cross_val_score(model, X, y, scoring=\"accuracy\", cv=cv, n_jobs=-1)\n",
    "\n",
    "speed[\"GradientBoosting\"] = np.round(time() - start, 3)\n",
    "accuracy[\"GradientBoosting\"] = np.mean(score).round(3)\n",
    "\n",
    "print(\n",
    "    f\"Mean Accuracy: {accuracy['GradientBoosting']}\\nStd: {np.std(score):.3f}\\nRun time: {speed['GradientBoosting']}s\"\n",
    ")"
   ]
  },
  {
   "cell_type": "markdown",
   "metadata": {},
   "source": [
    "##### Alternative"
   ]
  },
  {
   "cell_type": "code",
   "execution_count": 8,
   "metadata": {},
   "outputs": [
    {
     "data": {
      "application/javascript": [
       "\n",
       "            setTimeout(function() {\n",
       "                var nbb_cell_id = 8;\n",
       "                var nbb_unformatted_code = \"from sklearn.experimental import enable_hist_gradient_boosting\\nfrom sklearn.ensemble import HistGradientBoostingClassifier\";\n",
       "                var nbb_formatted_code = \"from sklearn.experimental import enable_hist_gradient_boosting\\nfrom sklearn.ensemble import HistGradientBoostingClassifier\";\n",
       "                var nbb_cells = Jupyter.notebook.get_cells();\n",
       "                for (var i = 0; i < nbb_cells.length; ++i) {\n",
       "                    if (nbb_cells[i].input_prompt_number == nbb_cell_id) {\n",
       "                        if (nbb_cells[i].get_text() == nbb_unformatted_code) {\n",
       "                             nbb_cells[i].set_text(nbb_formatted_code);\n",
       "                        }\n",
       "                        break;\n",
       "                    }\n",
       "                }\n",
       "            }, 500);\n",
       "            "
      ],
      "text/plain": [
       "<IPython.core.display.Javascript object>"
      ]
     },
     "metadata": {},
     "output_type": "display_data"
    }
   ],
   "source": [
    "from sklearn.experimental import enable_hist_gradient_boosting\n",
    "from sklearn.ensemble import HistGradientBoostingClassifier"
   ]
  },
  {
   "cell_type": "code",
   "execution_count": 9,
   "metadata": {},
   "outputs": [
    {
     "name": "stdout",
     "output_type": "stream",
     "text": [
      "Mean Accuracy: 0.964\n",
      "Std: 0.001\n",
      "Run time: 4.498s\n"
     ]
    },
    {
     "data": {
      "application/javascript": [
       "\n",
       "            setTimeout(function() {\n",
       "                var nbb_cell_id = 9;\n",
       "                var nbb_unformatted_code = \"model = HistGradientBoostingClassifier()\\n\\nstart = time()\\ncv = RepeatedStratifiedKFold(n_splits=5, n_repeats=2, random_state=0)\\nscore = cross_val_score(model, X, y, scoring=\\\"accuracy\\\", cv=cv, n_jobs=-1)\\n\\nspeed[\\\"HistGradientBoosting\\\"] = np.round(time() - start, 3)\\naccuracy[\\\"HistGradientBoosting\\\"] = np.mean(score).round(3)\\n\\nprint(\\n    f\\\"Mean Accuracy: {accuracy['HistGradientBoosting']}\\\\nStd: {np.std(score):.3f}\\\\nRun time: {speed['HistGradientBoosting']}s\\\"\\n)\";\n",
       "                var nbb_formatted_code = \"model = HistGradientBoostingClassifier()\\n\\nstart = time()\\ncv = RepeatedStratifiedKFold(n_splits=5, n_repeats=2, random_state=0)\\nscore = cross_val_score(model, X, y, scoring=\\\"accuracy\\\", cv=cv, n_jobs=-1)\\n\\nspeed[\\\"HistGradientBoosting\\\"] = np.round(time() - start, 3)\\naccuracy[\\\"HistGradientBoosting\\\"] = np.mean(score).round(3)\\n\\nprint(\\n    f\\\"Mean Accuracy: {accuracy['HistGradientBoosting']}\\\\nStd: {np.std(score):.3f}\\\\nRun time: {speed['HistGradientBoosting']}s\\\"\\n)\";\n",
       "                var nbb_cells = Jupyter.notebook.get_cells();\n",
       "                for (var i = 0; i < nbb_cells.length; ++i) {\n",
       "                    if (nbb_cells[i].input_prompt_number == nbb_cell_id) {\n",
       "                        if (nbb_cells[i].get_text() == nbb_unformatted_code) {\n",
       "                             nbb_cells[i].set_text(nbb_formatted_code);\n",
       "                        }\n",
       "                        break;\n",
       "                    }\n",
       "                }\n",
       "            }, 500);\n",
       "            "
      ],
      "text/plain": [
       "<IPython.core.display.Javascript object>"
      ]
     },
     "metadata": {},
     "output_type": "display_data"
    }
   ],
   "source": [
    "model = HistGradientBoostingClassifier()\n",
    "\n",
    "start = time()\n",
    "cv = RepeatedStratifiedKFold(n_splits=5, n_repeats=2, random_state=0)\n",
    "score = cross_val_score(model, X, y, scoring=\"accuracy\", cv=cv, n_jobs=-1)\n",
    "\n",
    "speed[\"HistGradientBoosting\"] = np.round(time() - start, 3)\n",
    "accuracy[\"HistGradientBoosting\"] = np.mean(score).round(3)\n",
    "\n",
    "print(\n",
    "    f\"Mean Accuracy: {accuracy['HistGradientBoosting']}\\nStd: {np.std(score):.3f}\\nRun time: {speed['HistGradientBoosting']}s\"\n",
    ")"
   ]
  },
  {
   "cell_type": "markdown",
   "metadata": {},
   "source": [
    "#### XGBoost"
   ]
  },
  {
   "cell_type": "code",
   "execution_count": 10,
   "metadata": {},
   "outputs": [
    {
     "data": {
      "application/javascript": [
       "\n",
       "            setTimeout(function() {\n",
       "                var nbb_cell_id = 10;\n",
       "                var nbb_unformatted_code = \"#!pipenv install xgboost --skip-lock\\nfrom xgboost import XGBClassifier\";\n",
       "                var nbb_formatted_code = \"#!pipenv install xgboost --skip-lock\\nfrom xgboost import XGBClassifier\";\n",
       "                var nbb_cells = Jupyter.notebook.get_cells();\n",
       "                for (var i = 0; i < nbb_cells.length; ++i) {\n",
       "                    if (nbb_cells[i].input_prompt_number == nbb_cell_id) {\n",
       "                        if (nbb_cells[i].get_text() == nbb_unformatted_code) {\n",
       "                             nbb_cells[i].set_text(nbb_formatted_code);\n",
       "                        }\n",
       "                        break;\n",
       "                    }\n",
       "                }\n",
       "            }, 500);\n",
       "            "
      ],
      "text/plain": [
       "<IPython.core.display.Javascript object>"
      ]
     },
     "metadata": {},
     "output_type": "display_data"
    }
   ],
   "source": [
    "#!pipenv install xgboost --skip-lock\n",
    "from xgboost import XGBClassifier"
   ]
  },
  {
   "cell_type": "code",
   "execution_count": 12,
   "metadata": {},
   "outputs": [
    {
     "name": "stdout",
     "output_type": "stream",
     "text": [
      "Mean Accuracy: 0.976\n",
      "Std: 0.001\n",
      "Run time: 39.936s\n"
     ]
    },
    {
     "data": {
      "application/javascript": [
       "\n",
       "            setTimeout(function() {\n",
       "                var nbb_cell_id = 12;\n",
       "                var nbb_unformatted_code = \"model = XGBClassifier()\\n\\nstart = time()\\ncv = RepeatedStratifiedKFold(n_splits=5, n_repeats=2, random_state=0)\\nscore = cross_val_score(model, X, y, scoring=\\\"accuracy\\\", cv=cv, n_jobs=-1)\\n\\nspeed[\\\"XGB\\\"] = np.round(time() - start, 3)\\naccuracy[\\\"XGB\\\"] = np.mean(score).round(3)\\n\\nprint(\\n    f\\\"Mean Accuracy: {accuracy['XGB']}\\\\nStd: {np.std(score):.3f}\\\\nRun time: {speed['XGB']}s\\\"\\n)\";\n",
       "                var nbb_formatted_code = \"model = XGBClassifier()\\n\\nstart = time()\\ncv = RepeatedStratifiedKFold(n_splits=5, n_repeats=2, random_state=0)\\nscore = cross_val_score(model, X, y, scoring=\\\"accuracy\\\", cv=cv, n_jobs=-1)\\n\\nspeed[\\\"XGB\\\"] = np.round(time() - start, 3)\\naccuracy[\\\"XGB\\\"] = np.mean(score).round(3)\\n\\nprint(\\n    f\\\"Mean Accuracy: {accuracy['XGB']}\\\\nStd: {np.std(score):.3f}\\\\nRun time: {speed['XGB']}s\\\"\\n)\";\n",
       "                var nbb_cells = Jupyter.notebook.get_cells();\n",
       "                for (var i = 0; i < nbb_cells.length; ++i) {\n",
       "                    if (nbb_cells[i].input_prompt_number == nbb_cell_id) {\n",
       "                        if (nbb_cells[i].get_text() == nbb_unformatted_code) {\n",
       "                             nbb_cells[i].set_text(nbb_formatted_code);\n",
       "                        }\n",
       "                        break;\n",
       "                    }\n",
       "                }\n",
       "            }, 500);\n",
       "            "
      ],
      "text/plain": [
       "<IPython.core.display.Javascript object>"
      ]
     },
     "metadata": {},
     "output_type": "display_data"
    }
   ],
   "source": [
    "model = XGBClassifier()\n",
    "\n",
    "start = time()\n",
    "cv = RepeatedStratifiedKFold(n_splits=5, n_repeats=2, random_state=0)\n",
    "score = cross_val_score(model, X, y, scoring=\"accuracy\", cv=cv, n_jobs=-1)\n",
    "\n",
    "speed[\"XGB\"] = np.round(time() - start, 3)\n",
    "accuracy[\"XGB\"] = np.mean(score).round(3)\n",
    "\n",
    "print(\n",
    "    f\"Mean Accuracy: {accuracy['XGB']}\\nStd: {np.std(score):.3f}\\nRun time: {speed['XGB']}s\"\n",
    ")"
   ]
  },
  {
   "cell_type": "markdown",
   "metadata": {},
   "source": [
    "#### LightGBM"
   ]
  },
  {
   "cell_type": "code",
   "execution_count": 13,
   "metadata": {},
   "outputs": [
    {
     "data": {
      "application/javascript": [
       "\n",
       "            setTimeout(function() {\n",
       "                var nbb_cell_id = 13;\n",
       "                var nbb_unformatted_code = \"#!pipenv install lightgbm --skip-lock\\nfrom lightgbm import LGBMClassifier\";\n",
       "                var nbb_formatted_code = \"#!pipenv install lightgbm --skip-lock\\nfrom lightgbm import LGBMClassifier\";\n",
       "                var nbb_cells = Jupyter.notebook.get_cells();\n",
       "                for (var i = 0; i < nbb_cells.length; ++i) {\n",
       "                    if (nbb_cells[i].input_prompt_number == nbb_cell_id) {\n",
       "                        if (nbb_cells[i].get_text() == nbb_unformatted_code) {\n",
       "                             nbb_cells[i].set_text(nbb_formatted_code);\n",
       "                        }\n",
       "                        break;\n",
       "                    }\n",
       "                }\n",
       "            }, 500);\n",
       "            "
      ],
      "text/plain": [
       "<IPython.core.display.Javascript object>"
      ]
     },
     "metadata": {},
     "output_type": "display_data"
    }
   ],
   "source": [
    "#!pipenv install lightgbm --skip-lock\n",
    "from lightgbm import LGBMClassifier"
   ]
  },
  {
   "cell_type": "code",
   "execution_count": 14,
   "metadata": {},
   "outputs": [
    {
     "name": "stdout",
     "output_type": "stream",
     "text": [
      "Mean Accuracy: 0.963\n",
      "Std: 0.001\n",
      "Run time: 3.276s\n"
     ]
    },
    {
     "data": {
      "application/javascript": [
       "\n",
       "            setTimeout(function() {\n",
       "                var nbb_cell_id = 14;\n",
       "                var nbb_unformatted_code = \"model = LGBMClassifier()\\n\\nstart = time()\\ncv = RepeatedStratifiedKFold(n_splits=5, n_repeats=2, random_state=0)\\nscore = cross_val_score(model, X, y, scoring=\\\"accuracy\\\", cv=cv, n_jobs=-1)\\n\\nspeed[\\\"LGBM\\\"] = np.round(time() - start, 3)\\naccuracy[\\\"LGBM\\\"] = np.mean(score).round(3)\\n\\nprint(\\n    f\\\"Mean Accuracy: {accuracy['LGBM']}\\\\nStd: {np.std(score):.3f}\\\\nRun time: {speed['LGBM']}s\\\"\\n)\";\n",
       "                var nbb_formatted_code = \"model = LGBMClassifier()\\n\\nstart = time()\\ncv = RepeatedStratifiedKFold(n_splits=5, n_repeats=2, random_state=0)\\nscore = cross_val_score(model, X, y, scoring=\\\"accuracy\\\", cv=cv, n_jobs=-1)\\n\\nspeed[\\\"LGBM\\\"] = np.round(time() - start, 3)\\naccuracy[\\\"LGBM\\\"] = np.mean(score).round(3)\\n\\nprint(\\n    f\\\"Mean Accuracy: {accuracy['LGBM']}\\\\nStd: {np.std(score):.3f}\\\\nRun time: {speed['LGBM']}s\\\"\\n)\";\n",
       "                var nbb_cells = Jupyter.notebook.get_cells();\n",
       "                for (var i = 0; i < nbb_cells.length; ++i) {\n",
       "                    if (nbb_cells[i].input_prompt_number == nbb_cell_id) {\n",
       "                        if (nbb_cells[i].get_text() == nbb_unformatted_code) {\n",
       "                             nbb_cells[i].set_text(nbb_formatted_code);\n",
       "                        }\n",
       "                        break;\n",
       "                    }\n",
       "                }\n",
       "            }, 500);\n",
       "            "
      ],
      "text/plain": [
       "<IPython.core.display.Javascript object>"
      ]
     },
     "metadata": {},
     "output_type": "display_data"
    }
   ],
   "source": [
    "model = LGBMClassifier()\n",
    "\n",
    "start = time()\n",
    "cv = RepeatedStratifiedKFold(n_splits=5, n_repeats=2, random_state=0)\n",
    "score = cross_val_score(model, X, y, scoring=\"accuracy\", cv=cv, n_jobs=-1)\n",
    "\n",
    "speed[\"LGBM\"] = np.round(time() - start, 3)\n",
    "accuracy[\"LGBM\"] = np.mean(score).round(3)\n",
    "\n",
    "print(\n",
    "    f\"Mean Accuracy: {accuracy['LGBM']}\\nStd: {np.std(score):.3f}\\nRun time: {speed['LGBM']}s\"\n",
    ")"
   ]
  },
  {
   "cell_type": "markdown",
   "metadata": {},
   "source": [
    "#### Catboost"
   ]
  },
  {
   "cell_type": "code",
   "execution_count": 15,
   "metadata": {},
   "outputs": [
    {
     "data": {
      "application/javascript": [
       "\n",
       "            setTimeout(function() {\n",
       "                var nbb_cell_id = 15;\n",
       "                var nbb_unformatted_code = \"#!pipenv install catboost --skip-lock\\nfrom catboost import CatBoostClassifier\";\n",
       "                var nbb_formatted_code = \"#!pipenv install catboost --skip-lock\\nfrom catboost import CatBoostClassifier\";\n",
       "                var nbb_cells = Jupyter.notebook.get_cells();\n",
       "                for (var i = 0; i < nbb_cells.length; ++i) {\n",
       "                    if (nbb_cells[i].input_prompt_number == nbb_cell_id) {\n",
       "                        if (nbb_cells[i].get_text() == nbb_unformatted_code) {\n",
       "                             nbb_cells[i].set_text(nbb_formatted_code);\n",
       "                        }\n",
       "                        break;\n",
       "                    }\n",
       "                }\n",
       "            }, 500);\n",
       "            "
      ],
      "text/plain": [
       "<IPython.core.display.Javascript object>"
      ]
     },
     "metadata": {},
     "output_type": "display_data"
    }
   ],
   "source": [
    "#!pipenv install catboost --skip-lock\n",
    "from catboost import CatBoostClassifier"
   ]
  },
  {
   "cell_type": "code",
   "execution_count": 16,
   "metadata": {},
   "outputs": [
    {
     "name": "stdout",
     "output_type": "stream",
     "text": [
      "Mean Accuracy: 0.983\n",
      "Std: 0.002\n",
      "Run time: 232.924s\n"
     ]
    },
    {
     "data": {
      "application/javascript": [
       "\n",
       "            setTimeout(function() {\n",
       "                var nbb_cell_id = 16;\n",
       "                var nbb_unformatted_code = \"model = CatBoostClassifier()\\n\\nstart = time()\\ncv = RepeatedStratifiedKFold(n_splits=5, n_repeats=2, random_state=0)\\nscore = cross_val_score(model, X, y, scoring=\\\"accuracy\\\", cv=cv, n_jobs=-1)\\n\\nspeed[\\\"CatBoost\\\"] = np.round(time() - start, 3)\\naccuracy[\\\"CatBoost\\\"] = np.mean(score).round(3)\\n\\nprint(\\n    f\\\"Mean Accuracy: {accuracy['CatBoost']}\\\\nStd: {np.std(score):.3f}\\\\nRun time: {speed['CatBoost']}s\\\"\\n)\";\n",
       "                var nbb_formatted_code = \"model = CatBoostClassifier()\\n\\nstart = time()\\ncv = RepeatedStratifiedKFold(n_splits=5, n_repeats=2, random_state=0)\\nscore = cross_val_score(model, X, y, scoring=\\\"accuracy\\\", cv=cv, n_jobs=-1)\\n\\nspeed[\\\"CatBoost\\\"] = np.round(time() - start, 3)\\naccuracy[\\\"CatBoost\\\"] = np.mean(score).round(3)\\n\\nprint(\\n    f\\\"Mean Accuracy: {accuracy['CatBoost']}\\\\nStd: {np.std(score):.3f}\\\\nRun time: {speed['CatBoost']}s\\\"\\n)\";\n",
       "                var nbb_cells = Jupyter.notebook.get_cells();\n",
       "                for (var i = 0; i < nbb_cells.length; ++i) {\n",
       "                    if (nbb_cells[i].input_prompt_number == nbb_cell_id) {\n",
       "                        if (nbb_cells[i].get_text() == nbb_unformatted_code) {\n",
       "                             nbb_cells[i].set_text(nbb_formatted_code);\n",
       "                        }\n",
       "                        break;\n",
       "                    }\n",
       "                }\n",
       "            }, 500);\n",
       "            "
      ],
      "text/plain": [
       "<IPython.core.display.Javascript object>"
      ]
     },
     "metadata": {},
     "output_type": "display_data"
    }
   ],
   "source": [
    "model = CatBoostClassifier()\n",
    "\n",
    "start = time()\n",
    "cv = RepeatedStratifiedKFold(n_splits=5, n_repeats=2, random_state=0)\n",
    "score = cross_val_score(model, X, y, scoring=\"accuracy\", cv=cv, n_jobs=-1)\n",
    "\n",
    "speed[\"CatBoost\"] = np.round(time() - start, 3)\n",
    "accuracy[\"CatBoost\"] = np.mean(score).round(3)\n",
    "\n",
    "print(\n",
    "    f\"Mean Accuracy: {accuracy['CatBoost']}\\nStd: {np.std(score):.3f}\\nRun time: {speed['CatBoost']}s\"\n",
    ")"
   ]
  },
  {
   "cell_type": "code",
   "execution_count": 17,
   "metadata": {},
   "outputs": [
    {
     "name": "stdout",
     "output_type": "stream",
     "text": [
      "Accuracy:\n"
     ]
    },
    {
     "data": {
      "text/plain": [
       "{'CatBoost': 0.983,\n",
       " 'XGB': 0.976,\n",
       " 'HistGradientBoosting': 0.964,\n",
       " 'LGBM': 0.963,\n",
       " 'GradientBoosting': 0.894}"
      ]
     },
     "execution_count": 17,
     "metadata": {},
     "output_type": "execute_result"
    },
    {
     "data": {
      "application/javascript": [
       "\n",
       "            setTimeout(function() {\n",
       "                var nbb_cell_id = 17;\n",
       "                var nbb_unformatted_code = \"print(\\\"Accuracy:\\\")\\n{k: v for k, v in sorted(accuracy.items(), key=lambda i: i[1], reverse=True)}\";\n",
       "                var nbb_formatted_code = \"print(\\\"Accuracy:\\\")\\n{k: v for k, v in sorted(accuracy.items(), key=lambda i: i[1], reverse=True)}\";\n",
       "                var nbb_cells = Jupyter.notebook.get_cells();\n",
       "                for (var i = 0; i < nbb_cells.length; ++i) {\n",
       "                    if (nbb_cells[i].input_prompt_number == nbb_cell_id) {\n",
       "                        if (nbb_cells[i].get_text() == nbb_unformatted_code) {\n",
       "                             nbb_cells[i].set_text(nbb_formatted_code);\n",
       "                        }\n",
       "                        break;\n",
       "                    }\n",
       "                }\n",
       "            }, 500);\n",
       "            "
      ],
      "text/plain": [
       "<IPython.core.display.Javascript object>"
      ]
     },
     "metadata": {},
     "output_type": "display_data"
    }
   ],
   "source": [
    "print(\"Accuracy:\")\n",
    "{k: v for k, v in sorted(accuracy.items(), key=lambda i: i[1], reverse=True)}"
   ]
  },
  {
   "cell_type": "code",
   "execution_count": 18,
   "metadata": {},
   "outputs": [
    {
     "name": "stdout",
     "output_type": "stream",
     "text": [
      "Speed:\n"
     ]
    },
    {
     "data": {
      "text/plain": [
       "{'LGBM': 3.276,\n",
       " 'HistGradientBoosting': 4.498,\n",
       " 'XGB': 39.936,\n",
       " 'GradientBoosting': 82.519,\n",
       " 'CatBoost': 232.924}"
      ]
     },
     "execution_count": 18,
     "metadata": {},
     "output_type": "execute_result"
    },
    {
     "data": {
      "application/javascript": [
       "\n",
       "            setTimeout(function() {\n",
       "                var nbb_cell_id = 18;\n",
       "                var nbb_unformatted_code = \"print(\\\"Speed:\\\")\\n{k: v for k, v in sorted(speed.items(), key=lambda i: i[1], reverse=False)}\";\n",
       "                var nbb_formatted_code = \"print(\\\"Speed:\\\")\\n{k: v for k, v in sorted(speed.items(), key=lambda i: i[1], reverse=False)}\";\n",
       "                var nbb_cells = Jupyter.notebook.get_cells();\n",
       "                for (var i = 0; i < nbb_cells.length; ++i) {\n",
       "                    if (nbb_cells[i].input_prompt_number == nbb_cell_id) {\n",
       "                        if (nbb_cells[i].get_text() == nbb_unformatted_code) {\n",
       "                             nbb_cells[i].set_text(nbb_formatted_code);\n",
       "                        }\n",
       "                        break;\n",
       "                    }\n",
       "                }\n",
       "            }, 500);\n",
       "            "
      ],
      "text/plain": [
       "<IPython.core.display.Javascript object>"
      ]
     },
     "metadata": {},
     "output_type": "display_data"
    }
   ],
   "source": [
    "print(\"Speed:\")\n",
    "{k: v for k, v in sorted(speed.items(), key=lambda i: i[1], reverse=False)}"
   ]
  },
  {
   "cell_type": "code",
   "execution_count": null,
   "metadata": {},
   "outputs": [],
   "source": []
  }
 ],
 "metadata": {
  "kernelspec": {
   "display_name": "Python 3 (ipykernel)",
   "language": "python",
   "name": "python3"
  },
  "language_info": {
   "codemirror_mode": {
    "name": "ipython",
    "version": 3
   },
   "file_extension": ".py",
   "mimetype": "text/x-python",
   "name": "python",
   "nbconvert_exporter": "python",
   "pygments_lexer": "ipython3",
   "version": "3.9.7"
  }
 },
 "nbformat": 4,
 "nbformat_minor": 4
}
