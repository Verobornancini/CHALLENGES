{
 "cells": [
  {
   "cell_type": "markdown",
   "metadata": {},
   "source": [
    "# Gradient boosting | Gradient Boosting Machine | GBM\n",
    "\n",
    "**Gradient boosting:** es un algoritmo de conjunto que se ajusta a los árboles de decisión potenciados al minimizar un gradiente de error. Hay muchas implementaciones del algoritmo de aumento de gradiente disponibles en Python.\n",
    "Probaremos un clasificador con todos ellos y compararemos la velocidad y la precisión de cada uno."
   ]
  },
  {
   "cell_type": "code",
   "execution_count": 4,
   "metadata": {},
   "outputs": [
    {
     "name": "stdout",
     "output_type": "stream",
     "text": [
      "X shape = (100000, 20)\n",
      "y shape = (100000,)\n"
     ]
    }
   ],
   "source": [
    "# importamos librerías necesarias\n",
    "\n",
    "# Basicas\n",
    "import warnings\n",
    "import numpy as np\n",
    "import pandas as pd\n",
    "from time import time\n",
    "from IPython.core.debugger import set_trace\n",
    "from sklearn.datasets import make_classification\n",
    "warnings.filterwarnings('ignore')\n",
    "\n",
    "# Genero un dataset de ejemplo\n",
    "X, y = make_classification(\n",
    "    n_samples=100000, \n",
    "    n_features=20, \n",
    "    n_informative=15, \n",
    "    n_redundant=5, \n",
    "    random_state=0)\n",
    "\n",
    "print(f'X shape = {X.shape}')\n",
    "print(f'y shape = {y.shape}')\n",
    "\n",
    "# Genero diccionarios vación para guardar posteriores datos\n",
    "speed = {}\n",
    "accuracy = {}"
   ]
  },
  {
   "cell_type": "markdown",
   "metadata": {},
   "source": [
    "### 1) Implementación de Gradient Boosting con Scikit-Learn"
   ]
  },
  {
   "cell_type": "code",
   "execution_count": 5,
   "metadata": {},
   "outputs": [],
   "source": [
    "# Scikit-Learn\n",
    "from sklearn.ensemble import GradientBoostingClassifier\n",
    "from sklearn.model_selection import cross_val_score\n",
    "from sklearn.model_selection import RepeatedStratifiedKFold # Repeated Stratified K-Fold is a cross validator"
   ]
  },
  {
   "cell_type": "code",
   "execution_count": 6,
   "metadata": {},
   "outputs": [
    {
     "name": "stdout",
     "output_type": "stream",
     "text": [
      "Mean Accuracy: 0.894\n",
      "Std: 0.003\n",
      "Run time: 393.908s\n"
     ]
    }
   ],
   "source": [
    "model = GradientBoostingClassifier()\n",
    "\n",
    "start = time()\n",
    "\n",
    "cv = RepeatedStratifiedKFold(n_splits=5, n_repeats=2, random_state=0)\n",
    "score = cross_val_score(model, X, y, scoring=\"accuracy\", cv=cv, n_jobs=-1)\n",
    "\n",
    "speed[\"GradientBoosting\"] = np.round(time() - start, 3)\n",
    "accuracy[\"GradientBoosting\"] = np.mean(score).round(3)\n",
    "\n",
    "print(f\"Mean Accuracy: {accuracy['GradientBoosting']}\")\n",
    "print(f\"Std: {np.std(score):.3f}s\")\n",
    "print(f\"Run time: {speed['GradientBoosting']}s\")"
   ]
  },
  {
   "cell_type": "markdown",
   "metadata": {},
   "source": [
    "##### Alternative"
   ]
  },
  {
   "cell_type": "code",
   "execution_count": 11,
   "metadata": {},
   "outputs": [],
   "source": [
    "from sklearn.experimental import enable_hist_gradient_boosting\n",
    "from sklearn.ensemble import HistGradientBoostingClassifier"
   ]
  },
  {
   "cell_type": "code",
   "execution_count": 12,
   "metadata": {},
   "outputs": [
    {
     "name": "stdout",
     "output_type": "stream",
     "text": [
      "Mean Accuracy: 0.962\n",
      "Std: 0.001s\n",
      "Run time: 29.388s\n"
     ]
    }
   ],
   "source": [
    "model = HistGradientBoostingClassifier()\n",
    "\n",
    "start = time()\n",
    "\n",
    "cv = RepeatedStratifiedKFold(n_splits=5, n_repeats=2, random_state=0)\n",
    "score = cross_val_score(model, X, y, scoring=\"accuracy\", cv=cv, n_jobs=-1)\n",
    "\n",
    "speed[\"HistGradientBoosting\"] = np.round(time() - start, 3)\n",
    "accuracy[\"HistGradientBoosting\"] = np.mean(score).round(3)\n",
    "\n",
    "print(f\"Mean Accuracy: {accuracy['HistGradientBoosting']}\")\n",
    "print(f\"Std: {np.std(score):.3f}s\")\n",
    "print(f\"Run time: {speed['HistGradientBoosting']}s\")"
   ]
  },
  {
   "cell_type": "markdown",
   "metadata": {},
   "source": [
    "### 2) Implementación de Gradient Boosting con XGBoost"
   ]
  },
  {
   "cell_type": "code",
   "execution_count": 17,
   "metadata": {},
   "outputs": [],
   "source": [
    "#!pip install xgboost\n",
    "from xgboost import XGBClassifier"
   ]
  },
  {
   "cell_type": "code",
   "execution_count": 18,
   "metadata": {},
   "outputs": [
    {
     "name": "stdout",
     "output_type": "stream",
     "text": [
      "Mean Accuracy: 0.976\n",
      "Std: 0.001\n",
      "Run time: 273.073s\n"
     ]
    }
   ],
   "source": [
    "model = XGBClassifier()\n",
    "\n",
    "start = time()\n",
    "\n",
    "cv = RepeatedStratifiedKFold(n_splits=5, n_repeats=2, random_state=0)\n",
    "score = cross_val_score(model, X, y, scoring=\"accuracy\", cv=cv, n_jobs=-1)\n",
    "\n",
    "speed[\"XGB\"] = np.round(time() - start, 3)\n",
    "accuracy[\"XGB\"] = np.mean(score).round(3)\n",
    "\n",
    "print(f\"Mean Accuracy: {accuracy['XGB']}\")\n",
    "print(f\"Std: {np.std(score):.3f}s\")\n",
    "print(f\"Run time: {speed['XGB']}s\")"
   ]
  },
  {
   "cell_type": "markdown",
   "metadata": {},
   "source": [
    "### 3) Implementación de Gradient Boosting con LightGBM"
   ]
  },
  {
   "cell_type": "code",
   "execution_count": 19,
   "metadata": {},
   "outputs": [],
   "source": [
    "#!pip install lightgbm\n",
    "from lightgbm import LGBMClassifier"
   ]
  },
  {
   "cell_type": "code",
   "execution_count": 20,
   "metadata": {},
   "outputs": [
    {
     "name": "stdout",
     "output_type": "stream",
     "text": [
      "Mean Accuracy: 0.963\n",
      "Std: 0.001s\n",
      "Run time: 31.802s\n"
     ]
    }
   ],
   "source": [
    "model = LGBMClassifier()\n",
    "\n",
    "start = time()\n",
    "\n",
    "cv = RepeatedStratifiedKFold(n_splits=5, n_repeats=2, random_state=0)\n",
    "score = cross_val_score(model, X, y, scoring=\"accuracy\", cv=cv, n_jobs=-1)\n",
    "\n",
    "speed[\"LGBM\"] = np.round(time() - start, 3)\n",
    "accuracy[\"LGBM\"] = np.mean(score).round(3)\n",
    "\n",
    "print(f\"Mean Accuracy: {accuracy['LGBM']}\")\n",
    "print(f\"Std: {np.std(score):.3f}s\")\n",
    "print(f\"Run time: {speed['LGBM']}s\")"
   ]
  },
  {
   "cell_type": "markdown",
   "metadata": {},
   "source": [
    "### 4) Implementación de Gradient Boosting con Catboost"
   ]
  },
  {
   "cell_type": "code",
   "execution_count": 23,
   "metadata": {},
   "outputs": [],
   "source": [
    "#!pip install catboost\n",
    "from catboost import CatBoostClassifier"
   ]
  },
  {
   "cell_type": "code",
   "execution_count": 24,
   "metadata": {},
   "outputs": [
    {
     "name": "stdout",
     "output_type": "stream",
     "text": [
      "Mean Accuracy: 0.983\n",
      "Std: 0.001s\n",
      "Run time: 285.221s\n"
     ]
    }
   ],
   "source": [
    "model = CatBoostClassifier()\n",
    "\n",
    "start = time()\n",
    "\n",
    "cv = RepeatedStratifiedKFold(n_splits=5, n_repeats=2, random_state=0)\n",
    "score = cross_val_score(model, X, y, scoring=\"accuracy\", cv=cv, n_jobs=-1)\n",
    "\n",
    "speed[\"CatBoost\"] = np.round(time() - start, 3)\n",
    "accuracy[\"CatBoost\"] = np.mean(score).round(3)\n",
    "\n",
    "print(f\"Mean Accuracy: {accuracy['CatBoost']}\")\n",
    "print(f\"Std: {np.std(score):.3f}s\")\n",
    "print(f\"Run time: {speed['CatBoost']}s\")"
   ]
  },
  {
   "cell_type": "markdown",
   "metadata": {},
   "source": [
    "### Comparación final de los resultados de todos los algoritmos probados"
   ]
  },
  {
   "cell_type": "code",
   "execution_count": 25,
   "metadata": {},
   "outputs": [
    {
     "name": "stdout",
     "output_type": "stream",
     "text": [
      "Accuracy:\n"
     ]
    },
    {
     "data": {
      "text/plain": [
       "{'CatBoost': 0.983,\n",
       " 'XGB': 0.976,\n",
       " 'LGBM': 0.963,\n",
       " 'HistGradientBoosting': 0.962,\n",
       " 'GradientBoosting': 0.894}"
      ]
     },
     "execution_count": 25,
     "metadata": {},
     "output_type": "execute_result"
    }
   ],
   "source": [
    "print(\"Accuracy:\")\n",
    "{k: v for k, v in sorted(accuracy.items(), key=lambda i: i[1], reverse=True)}"
   ]
  },
  {
   "cell_type": "code",
   "execution_count": 26,
   "metadata": {},
   "outputs": [
    {
     "name": "stdout",
     "output_type": "stream",
     "text": [
      "Speed:\n"
     ]
    },
    {
     "data": {
      "text/plain": [
       "{'HistGradientBoosting': 29.388,\n",
       " 'LGBM': 31.802,\n",
       " 'XGB': 273.073,\n",
       " 'CatBoost': 285.221,\n",
       " 'GradientBoosting': 393.908}"
      ]
     },
     "execution_count": 26,
     "metadata": {},
     "output_type": "execute_result"
    }
   ],
   "source": [
    "print(\"Speed:\")\n",
    "{k: v for k, v in sorted(speed.items(), key=lambda i: i[1], reverse=False)}"
   ]
  }
 ],
 "metadata": {
  "kernelspec": {
   "display_name": "Python 3 (ipykernel)",
   "language": "python",
   "name": "python3"
  },
  "language_info": {
   "codemirror_mode": {
    "name": "ipython",
    "version": 3
   },
   "file_extension": ".py",
   "mimetype": "text/x-python",
   "name": "python",
   "nbconvert_exporter": "python",
   "pygments_lexer": "ipython3",
   "version": "3.9.7"
  }
 },
 "nbformat": 4,
 "nbformat_minor": 4
}
